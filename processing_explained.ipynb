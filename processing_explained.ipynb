{
 "cells": [
  {
   "cell_type": "markdown",
   "metadata": {},
   "source": [
    "DATA STRUCTURE:\n",
    "The preprocessed data is organized by subject. Each subject has three subfiles:\n",
    "- Training fMRI data (60784 voxels, 4800 time points)\n",
    "- Test fMRI data (60784 voxels, 600 time points)\n",
    "    - Has an extra dimension (test trials were repeated 4 times)\n",
    "    - Interesting because we can see an initial large response, then it drops off. However, it grows again by the 4th trial of the test series. Might be interesting to see if that is also seen across all participants and maybe it signifies something about certainly of genre/recognition of music.\n",
    "- Mean Test Data (60784 voxels, 600 timepoints)\n"
   ]
  },
  {
   "cell_type": "markdown",
   "metadata": {},
   "source": []
  }
 ],
 "metadata": {
  "language_info": {
   "name": "python"
  }
 },
 "nbformat": 4,
 "nbformat_minor": 2
}
