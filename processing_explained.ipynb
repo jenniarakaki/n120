{
 "cells": [
  {
   "cell_type": "markdown",
   "metadata": {},
   "source": [
    "DATA STRUCTURE:\n",
    "The preprocessed data is organized by subject. Each subject has three subfiles:\n",
    "- Training fMRI data (60784 voxels, 4800 time points)\n",
    "- Test fMRI data (60784 voxels, 600 time points)\n",
    "    - Has an extra dimension (test trials were repeated 4 times)\n",
    "    - Interesting because we can see an initial large response, then it drops off. However, it grows again by the 4th trial of the test series. Might be interesting to| see if that is also seen across all participants and maybe it signifies something about certainly of genre/recognition of music.\n",
    "- Mean Test Data (60784 voxels, 600 timepoints)\n"
   ]
  },
  {
   "cell_type": "markdown",
   "metadata": {},
   "source": [
    "unsupervised \n",
    "- similarity index - input data (fmri)\n",
    "    - euclidian distance - see how far apart they are\n",
    "- cluster the fmai activity for the track, then you get groups of track\n",
    "google - clustering algorithms (cluster vectors)"
   ]
  },
  {
   "cell_type": "markdown",
   "metadata": {},
   "source": [
    "INDEXING\n",
    "[all voxels, 4 repetitions, 600 time points]\n",
    "- each timepoint is 1.5 seconds\n",
    "- each track plays for 15 seconds so 10 timepoints = one track\n",
    "- first repetition =  a concatenation of the first time each set of tracks is played; second repetition = a concatenation of the seconds time each of the tracks is played\n",
    "    - the set of tracks is different in each run\n",
    "    - the 600 time points is just each first repetition stacked on top of each other\n",
    "        - 100 time steps (for each track set) * 6\n",
    "\n",
    "Clustering: use all of the voxels for each track across repetitions\n",
    "- take an arbitrary time point in the track time (ex. maybe second 10 would show larger BOLD activity so you'd use timepoint 7)\n",
    "- you'll have an 40 arrays of 60k voxels\n",
    "- run the PCA on this and see if there's clustering\n",
    "\n",
    "pseudocode for extracting regular time points for each track:\n",
    "for i in 4:\n",
    "    for j in 60:\n",
    "        data[:, i, j]\n",
    "\n",
    "end up with [voxels, (repititions x tracks)]\n",
    "\n",
    "10 into track number + 8\n",
    "get 240 datapoints\n",
    "- put this into the umap\n",
    "\n",
    "\n"
   ]
  },
  {
   "cell_type": "code",
   "execution_count": null,
   "metadata": {
    "vscode": {
     "languageId": "plaintext"
    }
   },
   "outputs": [],
   "source": []
  }
 ],
 "metadata": {
  "language_info": {
   "name": "python"
  }
 },
 "nbformat": 4,
 "nbformat_minor": 2
}
